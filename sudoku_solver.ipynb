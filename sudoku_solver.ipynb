{
 "cells": [
  {
   "cell_type": "markdown",
   "metadata": {},
   "source": [
    "# Sudoku Solver in 22 lines of Python\n",
    "### Youn-Long Lin \n",
    "##### Department of Computer Science \n",
    "##### National Tsing Hua University, TAIWAN"
   ]
  },
  {
   "cell_type": "code",
   "execution_count": 3,
   "metadata": {
    "collapsed": false
   },
   "outputs": [],
   "source": [
    "# A Simple Brute-Force Sudoku solver\n",
    "# Run time could be exponential\n",
    "\n",
    "import numpy as np\n",
    "\n",
    "def sudoku_solver(board):\n",
    "    solutions = []\n",
    "    stack = [(0, board)]\n",
    "    while stack:\n",
    "        (curr_depth, curr_board) = stack.pop()\n",
    "        if curr_depth == 81:\n",
    "            solutions.append(curr_board)\n",
    "        else:\n",
    "            row, col = curr_depth // 9, curr_depth % 9\n",
    "            if curr_board[row, col] != 0:\n",
    "                stack.append((curr_depth + 1, curr_board.copy()))\n",
    "            else:\n",
    "                moves = ({1,2,3,4,5,6,7,8,9} -\n",
    "                         set(curr_board[row, :]) -\n",
    "                         set(curr_board[:, col]) -\n",
    "                         set(curr_board[row//3*3:row//3*3+3, col//3*3:col//3*3+3].flatten()))\n",
    "                for move in moves:\n",
    "                    new_board = curr_board.copy()\n",
    "                    new_board[row, col] = move\n",
    "                    stack.append((curr_depth + 1, new_board))\n",
    "    return solutions"
   ]
  },
  {
   "cell_type": "code",
   "execution_count": 4,
   "metadata": {
    "collapsed": false,
    "scrolled": false
   },
   "outputs": [
    {
     "data": {
      "text/plain": [
       "[array([[2, 3, 5, 9, 8, 7, 4, 1, 6],\n",
       "        [4, 7, 8, 1, 2, 6, 5, 9, 3],\n",
       "        [1, 6, 9, 3, 4, 5, 8, 7, 2],\n",
       "        [9, 1, 7, 5, 3, 4, 2, 6, 8],\n",
       "        [8, 5, 6, 7, 9, 2, 1, 3, 4],\n",
       "        [3, 2, 4, 6, 1, 8, 7, 5, 9],\n",
       "        [7, 8, 3, 4, 6, 1, 9, 2, 5],\n",
       "        [6, 4, 1, 2, 5, 9, 3, 8, 7],\n",
       "        [5, 9, 2, 8, 7, 3, 6, 4, 1]])]"
      ]
     },
     "execution_count": 4,
     "metadata": {},
     "output_type": "execute_result"
    }
   ],
   "source": [
    "b_easy = np.array([\n",
    "        [0, 3, 0, 9, 8, 7, 0, 0, 6],\n",
    "        [4, 0, 0, 0, 0, 0, 5, 0, 0],\n",
    "        [0, 6, 0, 0, 0, 5, 8, 0, 0],\n",
    "        [0, 1, 7, 0, 3, 4, 0, 6, 0],\n",
    "        [8, 5, 6, 0, 0, 0, 1, 3, 4],\n",
    "        [0, 2, 0, 6, 1, 0, 7, 5, 0],\n",
    "        [0, 0, 3, 4, 0, 0, 0, 2, 0],\n",
    "        [0, 0, 1, 0, 0, 0, 0, 0, 7],\n",
    "        [5, 0, 0, 8, 7, 3, 0, 4, 0]])\n",
    "sudoku_solver(b_easy)"
   ]
  },
  {
   "cell_type": "code",
   "execution_count": null,
   "metadata": {
    "collapsed": true
   },
   "outputs": [],
   "source": []
  }
 ],
 "metadata": {
  "kernelspec": {
   "display_name": "Python 3",
   "language": "python",
   "name": "python3"
  },
  "language_info": {
   "codemirror_mode": {
    "name": "ipython",
    "version": 3
   },
   "file_extension": ".py",
   "mimetype": "text/x-python",
   "name": "python",
   "nbconvert_exporter": "python",
   "pygments_lexer": "ipython3",
   "version": "3.5.0"
  }
 },
 "nbformat": 4,
 "nbformat_minor": 0
}
