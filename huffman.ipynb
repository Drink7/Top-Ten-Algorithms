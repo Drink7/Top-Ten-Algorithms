{
 "cells": [
  {
   "cell_type": "markdown",
   "metadata": {},
   "source": [
    "# Huffman Encoding and Decoding\n",
    "\n",
    "by Youn-Long Lin, Department of Computer Science, National Tsing Hua University"
   ]
  },
  {
   "cell_type": "code",
   "execution_count": 14,
   "metadata": {
    "collapsed": false
   },
   "outputs": [],
   "source": [
    "# Key for sorting a list of tuples\n",
    "def getKey(item):\n",
    "    return item[0]\n",
    "\n",
    "# Construct a huffman tree according to the frequency of chars of the text\n",
    "def gen_huffman_tree(text):\n",
    "    text_list = [c for c in text]\n",
    "    alphabet = set(text_list)\n",
    "    h_tree = [ (text_list.count(c), tuple(c) ) for c in alphabet ]\n",
    "    while len(h_tree) >= 2:\n",
    "        h_tree = sorted(h_tree, key=getKey)\n",
    "        h_tree = [ (h_tree[0][0] + h_tree[1][0], (h_tree[0], h_tree[1])) ] + h_tree[2:]\n",
    "    return h_tree\n",
    "\n",
    "# Build Huffman dictionary out of a Huffman tree\n",
    "def gen_huffman_dict(h_tree_node, code, h_dict):\n",
    "    if len(h_tree_node[1]) == 1:\n",
    "        h_dict[h_tree_node[1][0]] = code\n",
    "    else:\n",
    "        gen_huffman_dict(h_tree_node[1][0], code+'0', h_dict)\n",
    "        gen_huffman_dict(h_tree_node[1][1], code+'1', h_dict)\n",
    "    return\n",
    "\n",
    "# Encode a text message according to a Huffman dictionary\n",
    "def huffman_enc(h_dict, text):\n",
    "    h_code = ''\n",
    "    for c in text:\n",
    "        h_code = h_code + h_dict[c]\n",
    "    return h_code\n",
    "\n",
    "# Decode a bit stream following a Huffman tree\n",
    "def huffman_dec(h_tree, h_code):\n",
    "    dec_text = ''\n",
    "    i = 0\n",
    "    while i < len(h_code):\n",
    "        cur_node = h_tree[0]\n",
    "        while len(cur_node[1]) == 2:\n",
    "            cur_node = cur_node[1][0] if h_code[i] == '0' else cur_node[1][1]\n",
    "            i += 1\n",
    "        dec_text = dec_text + cur_node[1][0]           \n",
    "    return text\n"
   ]
  },
  {
   "cell_type": "code",
   "execution_count": 15,
   "metadata": {
    "collapsed": false
   },
   "outputs": [
    {
     "name": "stdout",
     "output_type": "stream",
     "text": [
      "Source text Length: 7\n",
      "Source text:  aaabcaa\n",
      "h_tree:  [(7, ((2, ((1, ('c',)), (1, ('b',)))), (5, ('a',))))]\n",
      "h_dict length 3\n",
      "h_dict entries:\n",
      "c : 00\n",
      "a : 1\n",
      "b : 01\n",
      "Encoded Bit_stream length:  9\n",
      "111010011\n",
      "Decoded text length:  7\n",
      "Decoded text:  aaabcaa\n"
     ]
    }
   ],
   "source": [
    "# Trial run a toy message\n",
    "\n",
    "text = 'aaabcaa'\n",
    "\n",
    "print (\"Source text Length:\", len(text))\n",
    "print (\"Source text: \", text)\n",
    "\n",
    "h_tree = gen_huffman_tree(text)\n",
    "print (\"h_tree: \", h_tree)\n",
    "\n",
    "h_dict = {}\n",
    "gen_huffman_dict(h_tree[0], '', h_dict)\n",
    "print (\"h_dict length\", len(h_dict))\n",
    "print (\"h_dict entries:\")\n",
    "for key, value in h_dict.items():\n",
    "    print (key, \":\", value)\n",
    "\n",
    "h_code = huffman_enc(h_dict, text)\n",
    "print (\"Encoded Bit_stream length: \", len(h_code))\n",
    "print (h_code)\n",
    "\n",
    "dec_text = huffman_dec(h_tree, h_code)\n",
    "print (\"Decoded text length: \", len(dec_text))\n",
    "print (\"Decoded text: \", dec_text)\n",
    "    "
   ]
  },
  {
   "cell_type": "code",
   "execution_count": null,
   "metadata": {
    "collapsed": false
   },
   "outputs": [],
   "source": [
    "# Encode and decode the opening of \"A Tale of Twin Cities\"\n",
    "\n",
    "text = 'It was the best of times, it was the worst of times, it was the age of wisdom, it was the age of foolishness, it was the epoch of belief, it was the epoch of incredulity, it was the season of Light, it was the season of Darkness, it was the spring of hope, it was the winter of despair, we had everything before us, we had nothing before us, we were all going direct to Heaven, we were all going direct the other way – in short, the period was so far like the present period, that some of its noisiest authorities insisted on its being received, for good or for evil, in the superlative degree of comparison only.'\n",
    "\n",
    "print (\"Source text Length:\", len(text))\n",
    "print (\"Source text: \", text)\n",
    "\n",
    "h_tree = gen_huffman_tree(text)\n",
    "print (\"h_tree: \", h_tree)\n",
    "\n",
    "h_dict = {}\n",
    "gen_huffman_dict(h_tree[0], '', h_dict)\n",
    "print (\"h_dict length\", len(h_dict))\n",
    "print (\"h_dict entries:\")\n",
    "for key, value in h_dict.items():\n",
    "    print (key, \":\", value)\n",
    "\n",
    "h_code = huffman_enc(h_dict, text)\n",
    "print (\"Encoded Bit_stream length: \", len(h_code))\n",
    "print (h_code)\n",
    "\n",
    "dec_text = huffman_dec(h_tree, h_code)\n",
    "print (\"Decoded text length: \", len(dec_text))\n",
    "print (\"Decoded text: \", dec_text)"
   ]
  },
  {
   "cell_type": "code",
   "execution_count": null,
   "metadata": {
    "collapsed": false
   },
   "outputs": [],
   "source": [
    "# Encode a book \n",
    "\n",
    "with open('old_man_sea.txt', 'r') as f:\n",
    "    text = f.read()\n",
    "\n",
    "print (\"Source text Length:\", len(text))\n",
    "print (\"Source text: \", text)\n",
    "\n",
    "h_tree = gen_huffman_tree(text)\n",
    "print (\"h_tree: \", h_tree)\n",
    "\n",
    "h_dict = {}\n",
    "gen_huffman_dict(h_tree[0], '', h_dict)\n",
    "print (\"h_dict length\", len(h_dict))\n",
    "print (\"h_dict entries:\")\n",
    "for key, value in h_dict.items():\n",
    "    print (key, \":\", value)\n",
    "\n",
    "h_code = huffman_enc(h_dict, text)\n",
    "print (\"Encoded Bit_stream length: \", len(h_code))\n",
    "print (h_code)\n",
    "\n",
    "dec_text = huffman_dec(h_tree, h_code)\n",
    "print (\"Decoded text length: \", len(dec_text))\n",
    "print (\"Decoded text: \", dec_text)\n",
    "        "
   ]
  }
 ],
 "metadata": {
  "kernelspec": {
   "display_name": "Python 3",
   "language": "python",
   "name": "python3"
  },
  "language_info": {
   "codemirror_mode": {
    "name": "ipython",
    "version": 3
   },
   "file_extension": ".py",
   "mimetype": "text/x-python",
   "name": "python",
   "nbconvert_exporter": "python",
   "pygments_lexer": "ipython3",
   "version": "3.5.0"
  }
 },
 "nbformat": 4,
 "nbformat_minor": 0
}
