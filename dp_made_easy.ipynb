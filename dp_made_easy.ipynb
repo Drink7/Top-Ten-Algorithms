{
 "cells": [
  {
   "cell_type": "markdown",
   "metadata": {},
   "source": [
    "# Dynamic Programming Made Easy\n",
    "#### Youn-Long Lin\n",
    "Department of Computer Science\n",
    "National Tsing Hua University\n",
    "Hsinchu, TAIWAN\n",
    "ylin@cs.nthu.edu.tw\n",
    "\n",
    "This notebook gives Python implementations of four classical dynamic programming problems. Each problem is in turn implemented in three different approaches:\n",
    "1. Straight forward (intuitive) recursive coding following the solution formulation\n",
    "2. Dictionary-based memorization scheme\n",
    "3. Iteratively looping over solution arrays\n",
    "\n",
    "The first approach is easy to understand, but it usually leads to exponential run time. The second strategy reduces the run time significantly, but it is subject to OS constraint on the depth of recursive calls. It nevertheless provides insights on solving ordering of subproblems. The third program is built based observing the behavior of the second one.\n",
    "\n",
    "There are many resources available for learning dynamic programming. Usually they present only one approach (the third one). Most students have difficulty comprehending the logic behind just a few lines of code. By introducing the evolving steps, we hope students will appreciate the beauty of DP.\n",
    "Problems covered are:\n",
    "1. Fibonacci Sequence Generation\n",
    "2. Longest Common Subsequence of Two Strings\n",
    "3. Text Justification for Word Processing\n",
    "4. Minimizing Number of Multiplications of Chain of Matrices\n",
    "\n",
    "We don't provide complete definition of the problems. Students may want to consult their text books for detail problem formulation. Each problem requires different type of arrays and different access patterns. Students are encouraged to try on each one with their own data."
   ]
  },
  {
   "cell_type": "markdown",
   "metadata": {},
   "source": [
    "## 1 Fibonacci Sequence"
   ]
  },
  {
   "cell_type": "markdown",
   "metadata": {},
   "source": [
    "### 1.1 Fibonacci Sequence -- Brute Force Approach\n",
    "This approach is intuitive. We just follow the definition. Unfortunately, it runs in exponential time due to redundant calls."
   ]
  },
  {
   "cell_type": "code",
   "execution_count": 13,
   "metadata": {
    "collapsed": false
   },
   "outputs": [
    {
     "data": {
      "text/plain": [
       "55"
      ]
     },
     "execution_count": 13,
     "metadata": {},
     "output_type": "execute_result"
    }
   ],
   "source": [
    "def fib_bf(n):\n",
    "    '''Brute Force Approach'''\n",
    "    if n == 0:\n",
    "        return 0\n",
    "    elif n == 1:\n",
    "        return 1\n",
    "    else:\n",
    "        return fib_bf(n-1) + fib_bf(n-2)\n",
    "    \n",
    "fib_bf(10)"
   ]
  },
  {
   "cell_type": "markdown",
   "metadata": {},
   "source": [
    "### 1.2 Fibinacci Sequence -- Dictionary Approach\n",
    "\n",
    "We use a dictionary to store found solutions to subproblem. The program looks up the dictionary first. If an entry exists in the dictionary, it returns the solution; Otherwise, it calculates the solution, and stores it into the dictionary before returning it to the caller. We print out the insertion sequence to the dictionary."
   ]
  },
  {
   "cell_type": "code",
   "execution_count": 14,
   "metadata": {
    "collapsed": false
   },
   "outputs": [
    {
     "name": "stdout",
     "output_type": "stream",
     "text": [
      "Fib Insert Entry 2 with Value 1\n",
      "Fib Insert Entry 3 with Value 2\n",
      "Fib Insert Entry 4 with Value 3\n",
      "Fib Insert Entry 5 with Value 5\n",
      "Fib Insert Entry 6 with Value 8\n",
      "Fib Insert Entry 7 with Value 13\n",
      "Fib Insert Entry 8 with Value 21\n",
      "Fib Insert Entry 9 with Value 34\n",
      "Fib Insert Entry 10 with Value 55\n"
     ]
    },
    {
     "data": {
      "text/plain": [
       "55"
      ]
     },
     "execution_count": 14,
     "metadata": {},
     "output_type": "execute_result"
    }
   ],
   "source": [
    "def fib_dict(n):\n",
    "    '''Dictionary-based Approach'''\n",
    "    sol_dict = {0:0, 1:1}\n",
    "    return fib_dict_engine(n, sol_dict)\n",
    "\n",
    "def fib_dict_engine(n, sol_dict):\n",
    "    if n in sol_dict:\n",
    "        return sol_dict[n]\n",
    "    else:\n",
    "        sol = fib_dict_engine(n-1, sol_dict) + fib_dict_engine(n-2, sol_dict)\n",
    "        sol_dict[n] = sol\n",
    "        print ('Fib Insert Entry {0} with Value {1}'.format(n, sol))\n",
    "        return sol\n",
    "\n",
    "fib_dict(10)"
   ]
  },
  {
   "cell_type": "markdown",
   "metadata": {},
   "source": [
    "### 1.3 Fibonacci Sequence -- Iterative Appraoch\n",
    "By obeserving what happen to the dictionary above, we know that a 1D array is needed and a simple loop over it will find our solutions."
   ]
  },
  {
   "cell_type": "code",
   "execution_count": 15,
   "metadata": {
    "collapsed": false
   },
   "outputs": [
    {
     "name": "stdout",
     "output_type": "stream",
     "text": [
      "Fibonacci Sequence of length 10 = [0, 1, 1, 2, 3, 5, 8, 13, 21, 34, 55]\n"
     ]
    },
    {
     "data": {
      "text/plain": [
       "55"
      ]
     },
     "execution_count": 15,
     "metadata": {},
     "output_type": "execute_result"
    }
   ],
   "source": [
    "def fib_loop(n):\n",
    "    '''DP and List'''\n",
    "    sol = [-1 for i in range(n+1)]\n",
    "    sol[0] = 0\n",
    "    sol[1] = 1\n",
    "    for i in range(2, n+1):\n",
    "        sol[i] = sol[i-1] + sol[i-2]\n",
    "    print ('Fibonacci Sequence of length {} ='.format(n), sol)\n",
    "    return sol[-1]\n",
    "\n",
    "fib_loop(10)"
   ]
  },
  {
   "cell_type": "markdown",
   "metadata": {},
   "source": [
    "## 2 Longest Common Subsequence (LCS)\n",
    "\n",
    "LCS takes two charater strings and find out the longest subsequence common to them both. For example, strings 'Kitten' and 'Knitting' have a length 5 LCS in 'Kittn'."
   ]
  },
  {
   "cell_type": "markdown",
   "metadata": {},
   "source": [
    "### 2.1 Longest Common Subsequence -- Brute Force Approach\n",
    "An intuitive solution is to compare the last characters of the two strings. If they are identical, we know the length is one plus the LCS length of the remaining one-character-shorter strings; otherwise, the solution should be the maximum of two cases, each with one shorter string."
   ]
  },
  {
   "cell_type": "code",
   "execution_count": 16,
   "metadata": {
    "collapsed": false
   },
   "outputs": [
    {
     "data": {
      "text/plain": [
       "5"
      ]
     },
     "execution_count": 16,
     "metadata": {},
     "output_type": "execute_result"
    }
   ],
   "source": [
    "def lcs_bf(x, y):\n",
    "    '''Brute Force'''\n",
    "    if len(x) == 0 or len(y) == 0:\n",
    "        return 0\n",
    "    else:\n",
    "        if x[-1] == y[-1]:\n",
    "            return lcs_bf(x[:-1], y[:-1]) + 1\n",
    "        else:\n",
    "            return max(lcs_bf(x[:-1], y), lcs_bf(x, y[:-1]))\n",
    "        \n",
    "lcs_bf('Kitten', 'Knitting')\n",
    "        "
   ]
  },
  {
   "cell_type": "markdown",
   "metadata": {},
   "source": [
    "### 2.2 Longest Common Subsequence -- Dictionary-Based Approach\n",
    "We use a dictionary with input string lengths as key."
   ]
  },
  {
   "cell_type": "code",
   "execution_count": 17,
   "metadata": {
    "collapsed": false
   },
   "outputs": [
    {
     "name": "stdout",
     "output_type": "stream",
     "text": [
      "LCS Insert Dict entry 0+8 with value 0\n",
      "LCS Insert Dict entry 0+7 with value 0\n",
      "LCS Insert Dict entry 0+6 with value 0\n",
      "LCS Insert Dict entry 0+5 with value 0\n",
      "LCS Insert Dict entry 0+4 with value 0\n",
      "LCS Insert Dict entry 0+3 with value 0\n",
      "LCS Insert Dict entry 0+2 with value 0\n",
      "LCS Insert Dict entry 0+0 with value 0\n",
      "LCS Insert Dict entry 1+1 with value 1\n",
      "LCS Insert Dict entry 1+2 with value 1\n",
      "LCS Insert Dict entry 1+3 with value 1\n",
      "LCS Insert Dict entry 1+4 with value 1\n",
      "LCS Insert Dict entry 1+5 with value 1\n",
      "LCS Insert Dict entry 1+6 with value 1\n",
      "LCS Insert Dict entry 1+7 with value 1\n",
      "LCS Insert Dict entry 1+8 with value 1\n",
      "LCS Insert Dict entry 2+6 with value 2\n",
      "LCS Insert Dict entry 2+7 with value 2\n",
      "LCS Insert Dict entry 2+8 with value 2\n",
      "LCS Insert Dict entry 2+3 with value 2\n",
      "LCS Insert Dict entry 2+4 with value 2\n",
      "LCS Insert Dict entry 3+5 with value 3\n",
      "LCS Insert Dict entry 3+6 with value 3\n",
      "LCS Insert Dict entry 3+7 with value 3\n",
      "LCS Insert Dict entry 3+8 with value 3\n",
      "LCS Insert Dict entry 3+4 with value 3\n",
      "LCS Insert Dict entry 4+5 with value 4\n",
      "LCS Insert Dict entry 4+6 with value 4\n",
      "LCS Insert Dict entry 4+7 with value 4\n",
      "LCS Insert Dict entry 4+8 with value 4\n",
      "LCS Insert Dict entry 2+0 with value 0\n",
      "LCS Insert Dict entry 2+1 with value 1\n",
      "LCS Insert Dict entry 2+2 with value 1\n",
      "LCS Insert Dict entry 3+0 with value 0\n",
      "LCS Insert Dict entry 3+1 with value 1\n",
      "LCS Insert Dict entry 3+2 with value 1\n",
      "LCS Insert Dict entry 3+3 with value 2\n",
      "LCS Insert Dict entry 4+4 with value 3\n",
      "LCS Insert Dict entry 4+0 with value 0\n",
      "LCS Insert Dict entry 4+1 with value 1\n",
      "LCS Insert Dict entry 4+2 with value 1\n",
      "LCS Insert Dict entry 4+3 with value 2\n",
      "LCS Insert Dict entry 5+0 with value 0\n",
      "LCS Insert Dict entry 5+1 with value 1\n",
      "LCS Insert Dict entry 5+2 with value 1\n",
      "LCS Insert Dict entry 5+3 with value 2\n",
      "LCS Insert Dict entry 5+4 with value 3\n",
      "LCS Insert Dict entry 5+5 with value 4\n",
      "LCS Insert Dict entry 5+6 with value 4\n",
      "LCS Insert Dict entry 5+7 with value 4\n",
      "LCS Insert Dict entry 5+8 with value 4\n",
      "LCS Insert Dict entry 6+7 with value 5\n",
      "LCS Insert Dict entry 6+8 with value 5\n"
     ]
    },
    {
     "data": {
      "text/plain": [
       "5"
      ]
     },
     "execution_count": 17,
     "metadata": {},
     "output_type": "execute_result"
    }
   ],
   "source": [
    "def lcs_dict(x, y):\n",
    "    sol_dict = {}\n",
    "    return lcs_dict_engine(x, y, sol_dict)\n",
    "\n",
    "def lcs_dict_engine(x, y, sol_dict):\n",
    "    key = str(len(x))+'+'+str(len(y))\n",
    "    if key in sol_dict:\n",
    "        return sol_dict[key]\n",
    "    else:\n",
    "        if len(x) == 0 or len(y) == 0:\n",
    "            sol = 0\n",
    "        else:\n",
    "            if x[-1] == y[-1]:\n",
    "                sol = lcs_dict_engine(x[:-1], y[:-1], sol_dict) + 1    \n",
    "            else:\n",
    "                sol = max(lcs_dict_engine(x[:-1], y, sol_dict),\n",
    "                          lcs_dict_engine(x, y[:-1], sol_dict))\n",
    "        sol_dict[key] = sol\n",
    "        print (\"LCS Insert Dict entry {} with value {}\".format(key, sol))\n",
    "        return sol\n",
    "\n",
    "lcs_dict('Kitten', 'Knitting')"
   ]
  },
  {
   "cell_type": "markdown",
   "metadata": {},
   "source": [
    "### 2.3 Longest Common Subsequence -- Iterative Approach\n",
    "Observing the dictionary above in action, we employ a two dimensional array and fill it up row by row and column by column."
   ]
  },
  {
   "cell_type": "code",
   "execution_count": 18,
   "metadata": {
    "collapsed": false
   },
   "outputs": [
    {
     "name": "stdout",
     "output_type": "stream",
     "text": [
      "[[0 0 0 0 0 0 0 0 0]\n",
      " [0 1 1 1 1 1 1 1 1]\n",
      " [0 1 1 2 2 2 2 2 2]\n",
      " [0 1 1 2 3 3 3 3 3]\n",
      " [0 1 1 2 3 4 4 4 4]\n",
      " [0 1 1 2 3 4 4 4 4]\n",
      " [0 1 2 2 3 4 4 5 5]]\n"
     ]
    },
    {
     "data": {
      "text/plain": [
       "5"
      ]
     },
     "execution_count": 18,
     "metadata": {},
     "output_type": "execute_result"
    }
   ],
   "source": [
    "import numpy as np\n",
    "\n",
    "def lcs_loop(x, y):\n",
    "    dp_array = np.zeros((len(x)+1, len(y)+1), dtype = int)\n",
    "    for r in  range (1, len(x) + 1):\n",
    "        for c in range(1, len(y) + 1):\n",
    "            if (x[r-1] == y[c-1]):\n",
    "                dp_array[r, c] = dp_array[r-1, c-1] + 1\n",
    "            else:\n",
    "                dp_array[r, c] = max(dp_array[r, c-1], dp_array[r-1, c])\n",
    "    print (dp_array)\n",
    "    return dp_array[r, c]\n",
    "\n",
    "lcs_loop('Kitten', 'Knitting')"
   ]
  },
  {
   "cell_type": "markdown",
   "metadata": {},
   "source": [
    "## 3 Text Justification\n",
    "This problem is also called type setting. It breaks a paragraph of words into lines such that the formatting is pleasant to read. Word processor such as LaTex employs it for high-quality layout."
   ]
  },
  {
   "cell_type": "markdown",
   "metadata": {},
   "source": [
    "### 3.1 Text Justification -- Brute Force Approach\n",
    "The cost is defined as the cost of the first line plus the recursive cost of the remainder of the paragraph. There are multiple options of packing into the first line as long as it doesn't use up the page width. We choose the minimum cost one."
   ]
  },
  {
   "cell_type": "code",
   "execution_count": 19,
   "metadata": {
    "collapsed": false
   },
   "outputs": [
    {
     "data": {
      "text/plain": [
       "61"
      ]
     },
     "execution_count": 19,
     "metadata": {},
     "output_type": "execute_result"
    }
   ],
   "source": [
    "def text_just_bf(text_list, start, end, width):\n",
    "    '''Brute Force Approach'''\n",
    "    if start == end:\n",
    "        return 0\n",
    "    min_cost = 99999999\n",
    "    candidate = start\n",
    "    usage = -1\n",
    "    while (candidate < end and usage + 1 + len(text_list[candidate]) <= width):\n",
    "        usage = usage + 1 + len(text_list[candidate])\n",
    "        line_cost = (width - usage)**2\n",
    "        curr_cost = line_cost + text_just_bf(text_list, candidate+1, end, width)\n",
    "        if curr_cost < min_cost:\n",
    "            min_cost = curr_cost\n",
    "        candidate += 1\n",
    "    return min_cost\n",
    "        \n",
    "    \n",
    "\n",
    "text = 'It was the best of time. It was the worst of time.'.split()\n",
    "text_just_bf(text, 0, len(text), 30)"
   ]
  },
  {
   "cell_type": "markdown",
   "metadata": {},
   "source": [
    "### 3.2 Text Justification --- Dictionary Based Approach\n",
    "We employ a dictionary to store found solutions to subproblems and obseve the sequence of entry insertion."
   ]
  },
  {
   "cell_type": "code",
   "execution_count": 20,
   "metadata": {
    "collapsed": false
   },
   "outputs": [
    {
     "name": "stdout",
     "output_type": "stream",
     "text": [
      "TJ Insert key 12--12 with value 0\n",
      "TJ Insert key 11--12 with value 625\n",
      "TJ Insert key 10--12 with value 484\n",
      "TJ Insert key 9--12 with value 256\n",
      "TJ Insert key 8--12 with value 144\n",
      "TJ Insert key 7--12 with value 64\n",
      "TJ Insert key 6--12 with value 25\n",
      "TJ Insert key 5--12 with value 452\n",
      "TJ Insert key 4--12 with value 369\n",
      "TJ Insert key 3--12 with value 244\n",
      "TJ Insert key 2--12 with value 164\n",
      "TJ Insert key 1--12 with value 100\n",
      "TJ Insert key 0--12 with value 61\n"
     ]
    },
    {
     "data": {
      "text/plain": [
       "61"
      ]
     },
     "execution_count": 20,
     "metadata": {},
     "output_type": "execute_result"
    }
   ],
   "source": [
    "def text_just_dict(text_list, start, end, width):\n",
    "    sol_dict = {}\n",
    "    return tj_engine(text_list, start, end, width, sol_dict)\n",
    "\n",
    "def tj_engine(text_list, start, end, width, sol_dict):\n",
    "    '''Recursive Engine for Dictionary-Based Text Justification'''  \n",
    "    key = str(start)+'--'+str(end)\n",
    "    if key in sol_dict:\n",
    "        return sol_dict[key]\n",
    "    else:\n",
    "        if start == end:\n",
    "            min_cost = 0\n",
    "        else:\n",
    "            min_cost = 9999999\n",
    "            candidate = start\n",
    "            usage = -1\n",
    "            while (candidate < end and usage + 1 + len(text_list[candidate]) <= width):\n",
    "                usage = usage + 1 + len(text_list[candidate])\n",
    "                line_cost = (width - usage)**2\n",
    "                curr_cost = line_cost + tj_engine(text_list, candidate+1, end, width, sol_dict)\n",
    "                if curr_cost < min_cost:\n",
    "                    min_cost = curr_cost\n",
    "                candidate += 1\n",
    "\n",
    "        sol_dict[key] = min_cost\n",
    "        print (\"TJ Insert key {} with value {}\".format(key, min_cost))\n",
    "        return sol_dict[key]\n",
    "        \n",
    "    \n",
    "\n",
    "text = 'It was the best of time. It was the worst of time.'.split()\n",
    "text_just_dict(text, 0, len(text), 30)"
   ]
  },
  {
   "cell_type": "markdown",
   "metadata": {},
   "source": [
    "### 3.3 Text Justification --- Iterative Approach\n",
    "Observing the dictionary in action above, we find that we need a 1D array to fill up backward. When filling up an entry, we need to look back a variable number of filled entries. Therefore, a while loop is employeed."
   ]
  },
  {
   "cell_type": "code",
   "execution_count": 21,
   "metadata": {
    "collapsed": false
   },
   "outputs": [
    {
     "name": "stdout",
     "output_type": "stream",
     "text": [
      "[61, 100, 164, 244, 369, 452, 25, 64, 144, 256, 484, 625, 0]\n"
     ]
    },
    {
     "data": {
      "text/plain": [
       "61"
      ]
     },
     "execution_count": 21,
     "metadata": {},
     "output_type": "execute_result"
    }
   ],
   "source": [
    "import numpy as np\n",
    "\n",
    "def text_just_loop(text_list, width):\n",
    "    N = len(text_list)\n",
    "    dp_array = [999999] * (N+1)\n",
    "    dp_array[N] = 0\n",
    "    for n in range(N-1, -1, -1):\n",
    "        candidate = n\n",
    "        usage = -1\n",
    "        min_cost = 9999999\n",
    "        while (candidate < N and usage + 1 + len(text_list[candidate]) <= width):\n",
    "            usage = usage + 1 + len(text_list[candidate])\n",
    "            line_cost = (width - usage)**2\n",
    "            curr_cost = line_cost + dp_array[candidate+1]\n",
    "            if curr_cost < min_cost:\n",
    "                min_cost = curr_cost\n",
    "            candidate += 1\n",
    "        dp_array[n] = min_cost\n",
    "    print (dp_array)\n",
    "    return dp_array[0]\n",
    "        \n",
    "    \n",
    "\n",
    "text = 'It was the best of time. It was the worst of time.'.split()\n",
    "text_just_loop(text, 30)"
   ]
  },
  {
   "cell_type": "markdown",
   "metadata": {},
   "source": [
    "## 4 Chain Matrix Multiplication\n",
    "To multiply three matrices, A, B and C, we can do it as (A*B)*C or A*(B*C). The number of multiplication operations could be drastically different. This problem asks for a best ordering that minimizes the number of multiplication operations."
   ]
  },
  {
   "cell_type": "markdown",
   "metadata": {},
   "source": [
    "### 4.1 Chain Matrix Multiplication -- Brute Force Approach\n",
    "An intuitive approach is to compare the cost of every multiplication as the last one. So the cost is the recursive cost of the left part plus that of the right part plus the last multiplication. Again we choose the minimum one among all possibilities."
   ]
  },
  {
   "cell_type": "code",
   "execution_count": 22,
   "metadata": {
    "collapsed": false
   },
   "outputs": [
    {
     "data": {
      "text/plain": [
       "1584"
      ]
     },
     "execution_count": 22,
     "metadata": {},
     "output_type": "execute_result"
    }
   ],
   "source": [
    "def chain_mat_bf(x):\n",
    "    if len(x) <= 1:\n",
    "        return 0\n",
    "    return min([chain_mat_bf(x[:i+1]) + chain_mat_bf(x[i+1:]) + x[0][0] * x[i][1] * x[-1][1] \n",
    "                for i in range(0, len(x)-1)])\n",
    "\n",
    "\n",
    "y = [(2, 5), (5, 100), (100, 3), (3, 9)]\n",
    "chain_mat_bf(y)"
   ]
  },
  {
   "cell_type": "markdown",
   "metadata": {},
   "source": [
    "### 4.2 Chain Matrix Multiplication -- Dictionary Based Approach\n",
    "We employ a dictionary to record found subproblem solutions."
   ]
  },
  {
   "cell_type": "code",
   "execution_count": 23,
   "metadata": {
    "collapsed": false
   },
   "outputs": [
    {
     "name": "stdout",
     "output_type": "stream",
     "text": [
      "Insert Key 3+3 with Value 0\n",
      "Insert Key 2+2 with Value 0\n",
      "Insert Key 2+3 with Value 2700\n",
      "Insert Key 1+1 with Value 0\n",
      "Insert Key 1+2 with Value 1500\n",
      "Insert Key 1+3 with Value 1635\n",
      "Insert Key 0+0 with Value 0\n",
      "Insert Key 0+1 with Value 1000\n",
      "Insert Key 0+2 with Value 1530\n",
      "Insert Key 0+3 with Value 1584\n"
     ]
    },
    {
     "data": {
      "text/plain": [
       "1584"
      ]
     },
     "execution_count": 23,
     "metadata": {},
     "output_type": "execute_result"
    }
   ],
   "source": [
    "def chain_mat_dict(x):\n",
    "    sol_dict = {}\n",
    "    return chain_mat_dict_engine(x, 0, len(x)-1, sol_dict)\n",
    "\n",
    "def chain_mat_dict_engine(x, start, end, sol_dict):\n",
    "    key = str(start)+'+'+str(end)\n",
    "    if key in sol_dict:\n",
    "        return sol_dict[key]\n",
    "    else:\n",
    "        if start == end:\n",
    "            sol_dict[key] = 0\n",
    "        else:\n",
    "            sol_dict[key] = min([chain_mat_dict_engine(x, i+1, end, sol_dict) +\n",
    "                                 chain_mat_dict_engine(x, start, i, sol_dict) +\n",
    "                                 x[start][0] * x[i][1] * x[end][1] \n",
    "                                 for i in range(start, end)])\n",
    "        print (\"Insert Key {} with Value {}\".format(key, sol_dict[key]))\n",
    "        return sol_dict[key]\n",
    "    \n",
    "y = [(2, 5), (5, 100), (100, 3), (3, 9)]\n",
    "chain_mat_dict(y)"
   ]
  },
  {
   "cell_type": "markdown",
   "metadata": {},
   "source": [
    "### 4.3 Chain Matrix Multiplication --- Iterative Approach\n",
    "Observing above dictionary in action, we realize that we need a 2D array. We only need to fill up its upper triangle from bottom-right."
   ]
  },
  {
   "cell_type": "code",
   "execution_count": 24,
   "metadata": {
    "collapsed": false
   },
   "outputs": [
    {
     "name": "stdout",
     "output_type": "stream",
     "text": [
      "[[   0 1000 1530 1584]\n",
      " [   0    0 1500 1635]\n",
      " [   0    0    0 2700]\n",
      " [   0    0    0    0]]\n"
     ]
    },
    {
     "data": {
      "text/plain": [
       "1584"
      ]
     },
     "execution_count": 24,
     "metadata": {},
     "output_type": "execute_result"
    }
   ],
   "source": [
    "def chain_mat_loop(x):\n",
    "    N = len(x)\n",
    "    dp_array = np.zeros((N, N), dtype = int)\n",
    "    if N <= 1:\n",
    "        return 0\n",
    "    for r in  range(N-1, -1, -1):\n",
    "        dp_array[r, r] = 0\n",
    "        for c in  range(r+1, N):\n",
    "            dp_array[r,c] = min([dp_array[r, i] + dp_array[i+1, c] + x[r][0]*x[i][1]*x[c][1]\n",
    "                                 for i in range(r, c)])\n",
    "    print (dp_array)\n",
    "    return dp_array[r,c]\n",
    "\n",
    "y = [(2, 5), (5, 100), (100, 3), (3, 9)]\n",
    "chain_mat_loop(y)"
   ]
  },
  {
   "cell_type": "markdown",
   "metadata": {
    "collapsed": true
   },
   "source": [
    "## 5. Summary\n",
    "\n",
    "We have shown Python implementations of four classical dynamic programming problems. We presented three different approaches for each problem. The Dictionary-based approach helps us understanding the ordering of subproblems solved. Therefore, implementation of the iterative approach become easy.\n",
    "\n",
    "There are many more dynamic programming problems. Students are encouraged to solve them using design patterns learned here."
   ]
  }
 ],
 "metadata": {
  "kernelspec": {
   "display_name": "Python 3",
   "language": "python",
   "name": "python3"
  },
  "language_info": {
   "codemirror_mode": {
    "name": "ipython",
    "version": 3
   },
   "file_extension": ".py",
   "mimetype": "text/x-python",
   "name": "python",
   "nbconvert_exporter": "python",
   "pygments_lexer": "ipython3",
   "version": "3.5.0"
  }
 },
 "nbformat": 4,
 "nbformat_minor": 0
}
